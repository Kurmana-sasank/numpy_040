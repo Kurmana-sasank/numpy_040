{
  "nbformat": 4,
  "nbformat_minor": 0,
  "metadata": {
    "colab": {
      "provenance": []
    },
    "kernelspec": {
      "name": "python3",
      "display_name": "Python 3"
    },
    "language_info": {
      "name": "python"
    }
  },
  "cells": [
    {
      "cell_type": "markdown",
      "source": [
        "1. Getting Familiar with NumPy"
      ],
      "metadata": {
        "id": "-eC9aU7LdwMP"
      }
    },
    {
      "cell_type": "code",
      "source": [
        "import numpy as np\n",
        "\n",
        "# Creating a 1D array from a list\n",
        "array_1d = np.array([1, 2, 3, 4, 5])\n",
        "print(\"1D array:\")\n",
        "print(array_1d)\n",
        "\n",
        "# Creating a 2D array (matrix)\n",
        "array_2d = np.array([[1, 2, 3], [4, 5, 6]])\n",
        "print(\"\\n2D array:\")\n",
        "print(array_2d)\n",
        "\n",
        "# Basic operations\n",
        "array_sum = array_1d + 10\n",
        "print(\"\\nArray after adding 10 to each element:\")\n",
        "print(array_sum)\n",
        "\n",
        "array_product = array_2d * 2\n",
        "print(\"\\nArray after multiplying each element by 2:\")\n",
        "print(array_product)\n",
        "\n",
        "# Array properties\n",
        "print(\"\\nArray properties:\")\n",
        "print(f\"Shape of array_2d: {array_2d.shape}\")\n",
        "print(f\"Size of array_2d: {array_2d.size}\")\n",
        "print(f\"Data type of array_2d: {array_2d.dtype}\")"
      ],
      "metadata": {
        "id": "IeX47sYgdxr-",
        "colab": {
          "base_uri": "https://localhost:8080/"
        },
        "outputId": "d929a879-c8f1-4247-ac71-dca8f26c78cf"
      },
      "execution_count": 1,
      "outputs": [
        {
          "output_type": "stream",
          "name": "stdout",
          "text": [
            "1D array:\n",
            "[1 2 3 4 5]\n",
            "\n",
            "2D array:\n",
            "[[1 2 3]\n",
            " [4 5 6]]\n",
            "\n",
            "Array after adding 10 to each element:\n",
            "[11 12 13 14 15]\n",
            "\n",
            "Array after multiplying each element by 2:\n",
            "[[ 2  4  6]\n",
            " [ 8 10 12]]\n",
            "\n",
            "Array properties:\n",
            "Shape of array_2d: (2, 3)\n",
            "Size of array_2d: 6\n",
            "Data type of array_2d: int64\n"
          ]
        }
      ]
    },
    {
      "cell_type": "markdown",
      "source": [
        "2. Data Manipulation with NumPy"
      ],
      "metadata": {
        "id": "B2IfcNjseHYU"
      }
    },
    {
      "cell_type": "code",
      "source": [
        "# Array creation\n",
        "array = np.arange(10)  # Create an array with a range of values\n",
        "print(\"\\nArray created with arange:\")\n",
        "print(array)\n",
        "\n",
        "# Indexing and slicing\n",
        "print(\"\\nElement at index 5:\")\n",
        "print(array[5])\n",
        "\n",
        "print(\"\\nSliced array (elements from index 2 to 5):\")\n",
        "print(array[2:6])\n",
        "\n",
        "# Reshaping arrays\n",
        "array_reshaped = np.reshape(array, (2, 5))\n",
        "print(\"\\nReshaped array (2x5):\")\n",
        "print(array_reshaped)\n",
        "\n",
        "# Applying mathematical operations\n",
        "array_squared = array ** 2\n",
        "print(\"\\nArray after squaring each element:\")\n",
        "print(array_squared)\n",
        "\n",
        "array_sqrt = np.sqrt(array)\n",
        "print(\"\\nSquare root of each element in the array:\")\n",
        "print(array_sqrt)"
      ],
      "metadata": {
        "id": "or7szJfleH_h",
        "colab": {
          "base_uri": "https://localhost:8080/"
        },
        "outputId": "c2383b81-77f6-445b-c432-adc140b73afe"
      },
      "execution_count": 2,
      "outputs": [
        {
          "output_type": "stream",
          "name": "stdout",
          "text": [
            "\n",
            "Array created with arange:\n",
            "[0 1 2 3 4 5 6 7 8 9]\n",
            "\n",
            "Element at index 5:\n",
            "5\n",
            "\n",
            "Sliced array (elements from index 2 to 5):\n",
            "[2 3 4 5]\n",
            "\n",
            "Reshaped array (2x5):\n",
            "[[0 1 2 3 4]\n",
            " [5 6 7 8 9]]\n",
            "\n",
            "Array after squaring each element:\n",
            "[ 0  1  4  9 16 25 36 49 64 81]\n",
            "\n",
            "Square root of each element in the array:\n",
            "[0.         1.         1.41421356 1.73205081 2.         2.23606798\n",
            " 2.44948974 2.64575131 2.82842712 3.        ]\n"
          ]
        }
      ]
    },
    {
      "cell_type": "markdown",
      "source": [
        "3. Data Aggregation"
      ],
      "metadata": {
        "id": "0KyU3V8heP3Q"
      }
    },
    {
      "cell_type": "code",
      "source": [
        "# Create a 2D array for aggregation examples\n",
        "data = np.array([[10, 20, 30], [40, 50, 60], [70, 80, 90]])\n",
        "print(\"\\nData array:\")\n",
        "print(data)\n",
        "\n",
        "# Computing summary statistics\n",
        "mean = np.mean(data)\n",
        "median = np.median(data)\n",
        "std_dev = np.std(data)\n",
        "total_sum = np.sum(data)\n",
        "\n",
        "print(\"\\nSummary statistics:\")\n",
        "print(f\"Mean: {mean}\")\n",
        "print(f\"Median: {median}\")\n",
        "print(f\"Standard Deviation: {std_dev}\")\n",
        "print(f\"Sum: {total_sum}\")\n",
        "\n",
        "# Grouping data and performing aggregations\n",
        "above_mean = data[data > mean]\n",
        "print(\"\\nElements above mean:\")\n",
        "print(above_mean)"
      ],
      "metadata": {
        "id": "ch-AOHz2eQhP",
        "colab": {
          "base_uri": "https://localhost:8080/"
        },
        "outputId": "5c36cec6-cb99-4bf4-a9d0-1b648218ab17"
      },
      "execution_count": 3,
      "outputs": [
        {
          "output_type": "stream",
          "name": "stdout",
          "text": [
            "\n",
            "Data array:\n",
            "[[10 20 30]\n",
            " [40 50 60]\n",
            " [70 80 90]]\n",
            "\n",
            "Summary statistics:\n",
            "Mean: 50.0\n",
            "Median: 50.0\n",
            "Standard Deviation: 25.81988897471611\n",
            "Sum: 450\n",
            "\n",
            "Elements above mean:\n",
            "[60 70 80 90]\n"
          ]
        }
      ]
    },
    {
      "cell_type": "markdown",
      "source": [
        "4. Data Analysis"
      ],
      "metadata": {
        "id": "fsnCrn5LeaEy"
      }
    },
    {
      "cell_type": "code",
      "source": [
        "# Correlation example\n",
        "# Create two arrays representing different data points\n",
        "x = np.array([1, 2, 3, 4, 5])\n",
        "y = np.array([2, 4, 6, 8, 10])\n",
        "\n",
        "# Compute correlation coefficient\n",
        "correlation = np.corrcoef(x, y)\n",
        "print(\"\\nCorrelation coefficient between x and y:\")\n",
        "print(correlation)\n",
        "\n",
        "# Identifying outliers using Z-score\n",
        "data_with_outliers = np.array([10, 12, 15, 18, 20, 22, 100])  # 100 is an outlier\n",
        "mean_data = np.mean(data_with_outliers)\n",
        "std_dev_data = np.std(data_with_outliers)\n",
        "z_scores = (data_with_outliers - mean_data) / std_dev_data\n",
        "\n",
        "print(\"\\nZ-scores of the data (detect outliers):\")\n",
        "print(z_scores)\n",
        "\n",
        "# Find elements that are considered outliers (absolute Z-score > 2)\n",
        "outliers = data_with_outliers[np.abs(z_scores) > 2]\n",
        "print(\"\\nOutliers in the data:\")\n",
        "print(outliers)\n",
        "\n",
        "# Calculating percentiles\n",
        "percentile_25 = np.percentile(data_with_outliers, 25)\n",
        "percentile_50 = np.percentile(data_with_outliers, 50)  # Also the median\n",
        "percentile_75 = np.percentile(data_with_outliers, 75)\n",
        "\n",
        "print(\"\\nPercentiles of the data:\")\n",
        "print(f\"25th percentile: {percentile_25}\")\n",
        "print(f\"50th percentile (median): {percentile_50}\")\n",
        "print(f\"75th percentile: {percentile_75}\")"
      ],
      "metadata": {
        "id": "JqLrYp87eaoC",
        "colab": {
          "base_uri": "https://localhost:8080/"
        },
        "outputId": "c18eac7f-37b5-4b3b-ed88-a0352ad44ad3"
      },
      "execution_count": 4,
      "outputs": [
        {
          "output_type": "stream",
          "name": "stdout",
          "text": [
            "\n",
            "Correlation coefficient between x and y:\n",
            "[[1. 1.]\n",
            " [1. 1.]]\n",
            "\n",
            "Z-scores of the data (detect outliers):\n",
            "[-0.6129475  -0.54537848 -0.44402496 -0.34267144 -0.27510242 -0.2075334\n",
            "  2.4276582 ]\n",
            "\n",
            "Outliers in the data:\n",
            "[100]\n",
            "\n",
            "Percentiles of the data:\n",
            "25th percentile: 13.5\n",
            "50th percentile (median): 18.0\n",
            "75th percentile: 21.0\n"
          ]
        }
      ]
    },
    {
      "cell_type": "markdown",
      "source": [
        "5.Application in Data Science"
      ],
      "metadata": {
        "id": "u2S6VcNvefYL"
      }
    },
    {
      "cell_type": "markdown",
      "source": [
        "Advantages of Using NumPy in Data Science\n",
        "\n",
        "NumPy provides several advantages over traditional Python data structures for numerical computations:\n",
        "\n",
        "Performance: NumPy arrays are more efficient than Python lists for numerical computations due to their fixed size and data type.\n",
        "Ease of Use: NumPy offers a wide range of mathematical functions that simplify the implementation of complex algorithms.\n",
        "Integration: NumPy integrates well with other Python libraries like Pandas, Scikit-Learn, and SciPy, enhancing its utility in data science workflows.\n",
        "Handling Large Datasets: NumPy is designed to work efficiently with large datasets, making it a valuable tool for data scientists working with high-dimensional data."
      ],
      "metadata": {
        "id": "-w71KFN1ejhp"
      }
    },
    {
      "cell_type": "markdown",
      "source": [
        "Real-World Examples\n",
        "\n",
        "Machine Learning: NumPy is used to handle numerical data, perform matrix operations, and compute gradients, which are crucial in building machine learning models.\n",
        "\n",
        "Financial Analysis: In finance, NumPy is used to perform quantitative analysis, compute financial indicators, and model time-series data.\n",
        "\n",
        "Scientific Research: NumPy is widely used in scientific computing for simulations, solving mathematical problems, and analyzing experimental data due to its ability to handle large, multi-dimensional arrays efficiently."
      ],
      "metadata": {
        "id": "Q_FWOPrSemgF"
      }
    },
    {
      "cell_type": "markdown",
      "source": [
        "Conclusion"
      ],
      "metadata": {
        "id": "LdQavvFXepb1"
      }
    },
    {
      "cell_type": "markdown",
      "source": [
        "By exploring the examples above, you’ll gain a comprehensive understanding of how NumPy can be used for data manipulation, analysis, and aggregation in data science. NumPy is a powerful tool that simplifies numerical computations, making it indispensable for data science professionals dealing with large datasets and complex numerical tasks."
      ],
      "metadata": {
        "id": "YmBGNJT-er_Q"
      }
    }
  ]
}